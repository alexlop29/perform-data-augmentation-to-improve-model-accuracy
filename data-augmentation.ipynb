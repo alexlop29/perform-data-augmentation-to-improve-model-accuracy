{
 "cells": [
  {
   "cell_type": "code",
   "execution_count": 2,
   "id": "9ef09616-ed9b-4aa9-b67e-794e0dec8948",
   "metadata": {},
   "outputs": [
    {
     "name": "stdout",
     "output_type": "stream",
     "text": [
      "before\n",
      "after\n",
      "score [0.87365 0.85835 0.8689 ]\n"
     ]
    }
   ],
   "source": [
    "from sklearn.datasets import fetch_openml\n",
    "from sklearn.linear_model import SGDClassifier\n",
    "from sklearn.model_selection import cross_val_score\n",
    "\n",
    "# Retrieve the data\n",
    "mnist = fetch_openml(\"mnist_784\")\n",
    "X, y = mnist[\"data\"], mnist[\"target\"]\n",
    "# print('X', X)\n",
    "# print('y', y)\n",
    "\n",
    "# Separate the training and test sets\n",
    "X_train, X_test, y_train, y_test = X[:60000], X[60000:], y[:60000], y[60000:]\n",
    "\n",
    "# Build the classifier and fit\n",
    "sgd_clf = SGDClassifier(random_state=42)\n",
    "s\n",
    "\n",
    "# Perform cross validation\n",
    "print(\"before\")\n",
    "score = cross_val_score(sgd_clf, X_train, y_train, cv=3, scoring=\"accuracy\")\n",
    "print(\"after\")\n",
    "print(\"score\", score)"
   ]
  },
  {
   "cell_type": "code",
   "execution_count": null,
   "id": "37d403f6-4ba9-4b3d-bc31-85169ebfb265",
   "metadata": {},
   "outputs": [],
   "source": []
  }
 ],
 "metadata": {
  "kernelspec": {
   "display_name": "Python 3 (ipykernel)",
   "language": "python",
   "name": "python3"
  },
  "language_info": {
   "codemirror_mode": {
    "name": "ipython",
    "version": 3
   },
   "file_extension": ".py",
   "mimetype": "text/x-python",
   "name": "python",
   "nbconvert_exporter": "python",
   "pygments_lexer": "ipython3",
   "version": "3.13.0"
  }
 },
 "nbformat": 4,
 "nbformat_minor": 5
}
