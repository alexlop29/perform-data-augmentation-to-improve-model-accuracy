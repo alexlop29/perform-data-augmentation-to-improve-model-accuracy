{
 "cells": [
  {
   "cell_type": "code",
   "execution_count": null,
   "id": "9ef09616-ed9b-4aa9-b67e-794e0dec8948",
   "metadata": {},
   "outputs": [
    {
     "name": "stdout",
     "output_type": "stream",
     "text": [
      "before score [0.87365 0.85835 0.8689 ]\n"
     ]
    }
   ],
   "source": [
    "from sklearn.datasets import fetch_openml\n",
    "from sklearn.linear_model import SGDClassifier\n",
    "from sklearn.model_selection import cross_val_score\n",
    "import numpy as np\n",
    "import pandas as pd\n",
    "\n",
    "# Retrieve the data\n",
    "mnist = fetch_openml(\"mnist_784\", as_frame=True)\n",
    "X, y = mnist[\"data\"], mnist[\"target\"]\n",
    "\n",
    "# Separate the training and test sets\n",
    "X_train, X_test, y_train, y_test = X[:60000], X[60000:], y[:60000], y[60000:]\n",
    "\n",
    "# Build the classifier and fit\n",
    "sgd_clf = SGDClassifier(random_state=42)\n",
    "\n",
    "# Perform cross validation\n",
    "score = cross_val_score(sgd_clf, X_train, y_train, cv=3, scoring=\"accuracy\")\n",
    "print(\"before score\", score)\n",
    "\n",
    "# Augment data\n",
    "def augment(value):\n",
    "    shape = value.reshape(28,28)\n",
    "\n",
    "    up = np.roll(shape, shift=1, axis=0).flatten()\n",
    "    down = np.roll(shape, shift=-1, axis=0).flatten()\n",
    "    left = np.roll(shape, shift=0, axis=-1).flatten()\n",
    "    right = np.roll(shape, shift=0, axis=1).flatten()\n",
    "\n",
    "    return [up, down, left, right]\n",
    "\n",
    "augment_X = []\n",
    "augment_Y = []\n",
    "\n",
    "for index in range(len(X_train)):\n",
    "    value = X_train.iloc[index].to_numpy()\n",
    "    target = y_train.iloc[index]\n",
    "    \n",
    "    augmented_images = augment(value)\n",
    "    augment_X.extend(augmented_images)\n",
    "    augment_Y.extend([target] * len(augmented_images))\n",
    "\n",
    "# Convert augmented data to data frames\n",
    "df_augmented_X = pd.DataFrame(augment_X, columns=X_train.columns)\n",
    "df_augmented_Y = pd.Series(augment_Y)\n",
    "\n",
    "# Add augmented data to the training sets\n",
    "X_train_augmented = pd.concat([X_train, df_augmented_X], ignore_index=True)\n",
    "y_train_augmented = pd.concat([y_train, df_augmented_Y], ignore_index=True)\n",
    "    \n",
    "# Perform cross validation\n",
    "score = cross_val_score(sgd_clf, X_train_augmented, y_train_augmented, cv=3, scoring=\"accuracy\")\n",
    "print(\"after score\", score)"
   ]
  },
  {
   "cell_type": "code",
   "execution_count": null,
   "id": "37d403f6-4ba9-4b3d-bc31-85169ebfb265",
   "metadata": {},
   "outputs": [],
   "source": []
  }
 ],
 "metadata": {
  "kernelspec": {
   "display_name": "Python 3 (ipykernel)",
   "language": "python",
   "name": "python3"
  },
  "language_info": {
   "codemirror_mode": {
    "name": "ipython",
    "version": 3
   },
   "file_extension": ".py",
   "mimetype": "text/x-python",
   "name": "python",
   "nbconvert_exporter": "python",
   "pygments_lexer": "ipython3",
   "version": "3.13.0"
  }
 },
 "nbformat": 4,
 "nbformat_minor": 5
}
